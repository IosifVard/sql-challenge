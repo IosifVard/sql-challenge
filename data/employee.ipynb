{
 "cells": [
  {
   "cell_type": "code",
   "execution_count": null,
   "metadata": {},
   "outputs": [],
   "source": [
    "#Verify tables have been correctly imported\n",
    "\n",
    "SELECT * FROM dept_emp;\n",
    "SELECT * FROM dept_manager;\n",
    "SELECT * FROM salaries;\n",
    "SELECT * FROM employees;\n",
    "SELECT * FROM titles;\n",
    "SELECT * FROM departments;"
   ]
  },
  {
   "cell_type": "code",
   "execution_count": null,
   "metadata": {},
   "outputs": [],
   "source": [
    "#List the employee number, last name, first name, sex, and salary of each employee\n",
    "SELECT e.emp_no, e.last_name, e.first_name, e.sex, s.salary\n",
    "INTO q1\n",
    "FROM employees AS e\n",
    "LEFT JOIN salaries AS s \n",
    "ON s.emp_no = e.emp_no\n",
    "ORDER BY e.emp_no;"
   ]
  },
  {
   "cell_type": "code",
   "execution_count": null,
   "metadata": {},
   "outputs": [],
   "source": [
    "#List the first name, last name, and hire date for the employees who were hired in 1986.\n",
    "SELECT first_name, last_name, hire_date\n",
    "FROM employees\n",
    "WHERE YEAR(hire_date) = 1986;"
   ]
  },
  {
   "cell_type": "code",
   "execution_count": null,
   "metadata": {},
   "outputs": [],
   "source": [
    "#List the manager of each department along with their department number, department name, employee number, last name, and first name\n",
    "SELECT dm.dept_no, d.dept_name, e.emp_no, e.last_name, e.first_name\n",
    "FROM dept_manager dm\n",
    "JOIN employees e ON dm.emp_no = e.emp_no\n",
    "JOIN departments d ON dm.dept_no = d.dept_no;"
   ]
  },
  {
   "cell_type": "code",
   "execution_count": null,
   "metadata": {},
   "outputs": [],
   "source": [
    "#List the department number for each employee along with that employee’s employee number, last name, first name, and department name\n",
    "SELECT de.dept_no, e.emp_no, e.last_name, e.first_name, d.dept_name\n",
    "FROM dept_emp de\n",
    "JOIN employees e ON de.emp_no = e.emp_no\n",
    "JOIN departments d ON de.dept_no = d.dept_no;"
   ]
  },
  {
   "cell_type": "code",
   "execution_count": null,
   "metadata": {},
   "outputs": [],
   "source": [
    "#List first name, last name, and sex of each employee whose first name is Hercules and whose last name begins with the letter B\n",
    "SELECT first_name, last_name, sex\n",
    "FROM employees\n",
    "WHERE first_name = 'Hercules'\n",
    "AND last_name LIKE 'B%';"
   ]
  },
  {
   "cell_type": "code",
   "execution_count": null,
   "metadata": {},
   "outputs": [],
   "source": [
    "#List each employee in the Sales department, including their employee number, last name, and first name\n",
    "SELECT e.emp_no, e.last_name, e.first_name\n",
    "FROM employees e\n",
    "JOIN dept_emp de ON e.emp_no = de.emp_no\n",
    "JOIN departments d ON de.dept_no = d.dept_no\n",
    "WHERE d.dept_name = 'Sales';"
   ]
  },
  {
   "cell_type": "code",
   "execution_count": null,
   "metadata": {},
   "outputs": [],
   "source": [
    "#List each employee in the Sales and Development departments, including their employee number, last name, first name, and department name\n",
    "SELECT e.emp_no, e.last_name, e.first_name, d.dept_name\n",
    "FROM employees e\n",
    "JOIN dept_emp de ON e.emp_no = de.emp_no\n",
    "JOIN departments d ON de.dept_no = d.dept_no\n",
    "WHERE d.dept_name IN ('Sales', 'Development');"
   ]
  },
  {
   "cell_type": "code",
   "execution_count": null,
   "metadata": {},
   "outputs": [],
   "source": [
    "#List the frequency counts, in descending order, of all the employee last names (that is, how many employees share each last name)\n",
    "SELECT last_name, COUNT(*) AS frequency\n",
    "FROM employees\n",
    "GROUP BY last_name\n",
    "ORDER BY frequency DESC;"
   ]
  }
 ],
 "metadata": {
  "language_info": {
   "name": "python"
  }
 },
 "nbformat": 4,
 "nbformat_minor": 2
}
